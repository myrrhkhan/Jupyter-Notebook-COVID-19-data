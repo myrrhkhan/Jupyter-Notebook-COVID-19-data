{
 "cells": [
  {
   "cell_type": "code",
   "execution_count": 1,
   "metadata": {},
   "outputs": [],
   "source": [
    "import os\n",
    "import pandas as pd\n",
    "import matplotlib.pyplot as plt"
   ]
  },
  {
   "cell_type": "code",
   "execution_count": 2,
   "metadata": {},
   "outputs": [
    {
     "data": {
      "text/html": [
       "<div>\n",
       "<style scoped>\n",
       "    .dataframe tbody tr th:only-of-type {\n",
       "        vertical-align: middle;\n",
       "    }\n",
       "\n",
       "    .dataframe tbody tr th {\n",
       "        vertical-align: top;\n",
       "    }\n",
       "\n",
       "    .dataframe thead th {\n",
       "        text-align: right;\n",
       "    }\n",
       "</style>\n",
       "<table border=\"1\" class=\"dataframe\">\n",
       "  <thead>\n",
       "    <tr style=\"text-align: right;\">\n",
       "      <th></th>\n",
       "      <th>Country_Region</th>\n",
       "      <th>Confirmed</th>\n",
       "      <th>Deaths</th>\n",
       "      <th>Recovered</th>\n",
       "      <th>Date</th>\n",
       "    </tr>\n",
       "  </thead>\n",
       "  <tbody>\n",
       "    <tr>\n",
       "      <th>0</th>\n",
       "      <td>Mainland China</td>\n",
       "      <td>1.0</td>\n",
       "      <td>0.0</td>\n",
       "      <td>0.0</td>\n",
       "      <td>01-22-2020</td>\n",
       "    </tr>\n",
       "    <tr>\n",
       "      <th>1</th>\n",
       "      <td>Mainland China</td>\n",
       "      <td>14.0</td>\n",
       "      <td>0.0</td>\n",
       "      <td>0.0</td>\n",
       "      <td>01-22-2020</td>\n",
       "    </tr>\n",
       "    <tr>\n",
       "      <th>2</th>\n",
       "      <td>Mainland China</td>\n",
       "      <td>6.0</td>\n",
       "      <td>0.0</td>\n",
       "      <td>0.0</td>\n",
       "      <td>01-22-2020</td>\n",
       "    </tr>\n",
       "    <tr>\n",
       "      <th>3</th>\n",
       "      <td>Mainland China</td>\n",
       "      <td>1.0</td>\n",
       "      <td>0.0</td>\n",
       "      <td>0.0</td>\n",
       "      <td>01-22-2020</td>\n",
       "    </tr>\n",
       "    <tr>\n",
       "      <th>4</th>\n",
       "      <td>Mainland China</td>\n",
       "      <td>0.0</td>\n",
       "      <td>0.0</td>\n",
       "      <td>0.0</td>\n",
       "      <td>01-22-2020</td>\n",
       "    </tr>\n",
       "    <tr>\n",
       "      <th>...</th>\n",
       "      <td>...</td>\n",
       "      <td>...</td>\n",
       "      <td>...</td>\n",
       "      <td>...</td>\n",
       "      <td>...</td>\n",
       "    </tr>\n",
       "    <tr>\n",
       "      <th>152465</th>\n",
       "      <td>West Bank and Gaza</td>\n",
       "      <td>375.0</td>\n",
       "      <td>2.0</td>\n",
       "      <td>176.0</td>\n",
       "      <td>05-07-2020</td>\n",
       "    </tr>\n",
       "    <tr>\n",
       "      <th>152466</th>\n",
       "      <td>Western Sahara</td>\n",
       "      <td>6.0</td>\n",
       "      <td>0.0</td>\n",
       "      <td>5.0</td>\n",
       "      <td>05-07-2020</td>\n",
       "    </tr>\n",
       "    <tr>\n",
       "      <th>152467</th>\n",
       "      <td>Yemen</td>\n",
       "      <td>25.0</td>\n",
       "      <td>5.0</td>\n",
       "      <td>1.0</td>\n",
       "      <td>05-07-2020</td>\n",
       "    </tr>\n",
       "    <tr>\n",
       "      <th>152468</th>\n",
       "      <td>Zambia</td>\n",
       "      <td>153.0</td>\n",
       "      <td>4.0</td>\n",
       "      <td>103.0</td>\n",
       "      <td>05-07-2020</td>\n",
       "    </tr>\n",
       "    <tr>\n",
       "      <th>152469</th>\n",
       "      <td>Zimbabwe</td>\n",
       "      <td>34.0</td>\n",
       "      <td>4.0</td>\n",
       "      <td>5.0</td>\n",
       "      <td>05-07-2020</td>\n",
       "    </tr>\n",
       "  </tbody>\n",
       "</table>\n",
       "<p>152470 rows × 5 columns</p>\n",
       "</div>"
      ],
      "text/plain": [
       "            Country_Region  Confirmed  Deaths  Recovered        Date\n",
       "0           Mainland China        1.0     0.0        0.0  01-22-2020\n",
       "1           Mainland China       14.0     0.0        0.0  01-22-2020\n",
       "2           Mainland China        6.0     0.0        0.0  01-22-2020\n",
       "3           Mainland China        1.0     0.0        0.0  01-22-2020\n",
       "4           Mainland China        0.0     0.0        0.0  01-22-2020\n",
       "...                    ...        ...     ...        ...         ...\n",
       "152465  West Bank and Gaza      375.0     2.0      176.0  05-07-2020\n",
       "152466      Western Sahara        6.0     0.0        5.0  05-07-2020\n",
       "152467               Yemen       25.0     5.0        1.0  05-07-2020\n",
       "152468              Zambia      153.0     4.0      103.0  05-07-2020\n",
       "152469            Zimbabwe       34.0     4.0        5.0  05-07-2020\n",
       "\n",
       "[152470 rows x 5 columns]"
      ]
     },
     "execution_count": 2,
     "metadata": {},
     "output_type": "execute_result"
    }
   ],
   "source": [
    "#data used: Johns Hopkins\n",
    "folder = \"csse_covid_19_daily_reports (world, copied from Johns Hopkins Data)\" #imports folder\n",
    "\n",
    "#pandas is used below\n",
    "df = pd.DataFrame() #makes a data table, calls it df\n",
    "\n",
    "columns = [\"Country_Region\", \"Confirmed\", \"Deaths\", \"Recovered\"]\n",
    "\n",
    "for filename in os.listdir(folder):\n",
    "    #file name is \"date\" + \".\" + ending. Looking for \".csv\"\n",
    "    if filename.split(\".\")[1] == \"csv\": #file name is string, split name at \".\" and look at second part\n",
    "        day = pd.read_csv(folder + \"/\" + filename) #reads file into DataFrame\n",
    "        day = day.rename(columns={'Country/Region':\"Country_Region\"}) #renames column\n",
    "        day = day[columns] #creates day column\n",
    "        day[\"Date\"] = filename.split(\".\")[0] #parses data above, THEN defines filename as Date\n",
    "        df = df.append(day, ignore_index=True) #adds day column\n",
    "        \n",
    "df = df.fillna(0) #fills \"na\" into 0\n",
    "df"
   ]
  },
  {
   "cell_type": "code",
   "execution_count": 3,
   "metadata": {},
   "outputs": [
    {
     "data": {
      "image/png": "[encoded data removed]",
      "text/plain": [
       "<Figure size 432x288 with 1 Axes>"
      ]
     },
     "metadata": {
      "needs_background": "light"
     },
     "output_type": "display_data"
    }
   ],
   "source": [
    "countries = [\"US\", \"Italy\", \"UK\", \"Switzerland\", \"Germany\", \"Bangladesh\", \"Pakistan\", \"Sri Lanka\", \"Taiwan\", \"Tunisia\", \"Mainland China\"]\n",
    "\n",
    "for country in countries:\n",
    "    c = df[df['Country_Region'] == country] \n",
    "    plt.plot(c['Date'], c['Confirmed'], label=country) #'Date' and 'Confirmed' are \"traits\" of c, countries\n",
    "    \n",
    "plt.legend()\n",
    "plt.show()"
   ]
  },
  {
   "cell_type": "code",
   "execution_count": null,
   "metadata": {},
   "outputs": [],
   "source": [
    "combined = pd.DataFrame()\n",
    "\n",
    "for country in countries:\n",
    "    c = df[df['Country_Region'] == country]\n",
    "    dates = df['Date'].unique() #find unique dates\n",
    "    for index, date in enumerate(dates):\n",
    "        day = c[c['Date'] == date] #define date as days since start?\n",
    "        confirmed_sum = sum(day['Confirmed']) #confirmed per day)\n",
    "        death_sum = sum(day['Deaths']) #deaths per day\n",
    "        recovered_sum = sum(day['Recovered']) #recovered per day\n",
    "        new_row = {'Country':country, 'Date':date, 'Confirmed':confirmed_sum, 'Deaths':death_sum, 'Recovered':recovered_sum, 'Days Since Start': index}\n",
    "        combined = combined.append(new_row, ignore_index=True) #append: add to list\n",
    "\n",
    "combined #Creates new data table called \"combined,\" this time it records since patient 0, supposedly more accurate"
   ]
  },
  {
   "cell_type": "code",
   "execution_count": null,
   "metadata": {},
   "outputs": [],
   "source": [
    "for country in countries:\n",
    "    c = combined[combined['Country'] == country]\n",
    "    plt.plot(c['Days Since Start'], c['Confirmed'], label=country)\n",
    "    \n",
    "plt.legend()\n",
    "plt.show()\n",
    "#plot delta on graph"
   ]
  },
  {
   "cell_type": "code",
   "execution_count": null,
   "metadata": {},
   "outputs": [],
   "source": [
    "# Add the change in cases to the dataset\n",
    "combined['New Cases'] = combined['Confirmed'] - combined['Confirmed'].shift(1) #defines new cases as the confirmed cases of today - confirmed from day before\n",
    "combined['New Deaths'] = combined['Deaths'] - combined['Deaths'].shift(1)\n",
    "combined['New Recovered'] = combined['Recovered'] - combined['Recovered'].shift(1)\n",
    "\n",
    "combined = combined.fillna(0)  # Fill the NaN columns\n",
    "\n",
    "# Set first value of dataset to zero since it returns negative\n",
    "combined[combined['New Cases'] < 0] = 0\n",
    "combined[combined['New Deaths'] < 0] = 0\n",
    "combined[combined['New Recovered'] < 0] = 0"
   ]
  },
  {
   "cell_type": "code",
   "execution_count": null,
   "metadata": {},
   "outputs": [],
   "source": [
    "for country in countries:\n",
    "    c = combined[combined['Country'] == country]\n",
    "    plt.plot(c['Days Since Start'], c['New Cases'], label=country)\n",
    "    \n",
    "plt.legend()\n",
    "plt.show()"
   ]
  },
  {
   "cell_type": "code",
   "execution_count": null,
   "metadata": {},
   "outputs": [],
   "source": [
    "for country in countries:\n",
    "    c = combined[combined['Country'] == country]\n",
    "    plt.plot(c['Days Since Start'], c['New Deaths'], label=country)\n",
    "    \n",
    "plt.legend()\n",
    "plt.show()"
   ]
  },
  {
   "cell_type": "code",
   "execution_count": null,
   "metadata": {},
   "outputs": [],
   "source": [
    "for country in countries:\n",
    "    c = combined[combined['Country'] == country]\n",
    "    plt.plot(c['Days Since Start'], c['New Recovered'], label=country)\n",
    "    \n",
    "plt.legend()\n",
    "plt.show()"
   ]
  },
  {
   "cell_type": "code",
   "execution_count": null,
   "metadata": {},
   "outputs": [],
   "source": []
  }
 ],
 "metadata": {
  "kernelspec": {
   "display_name": "Python 3",
   "language": "python",
   "name": "python3"
  },
  "language_info": {
   "codemirror_mode": {
    "name": "ipython",
    "version": 3
   },
   "file_extension": ".py",
   "mimetype": "text/x-python",
   "name": "python",
   "nbconvert_exporter": "python",
   "pygments_lexer": "ipython3",
   "version": "3.8.2"
  }
 },
 "nbformat": 4,
 "nbformat_minor": 4
}
